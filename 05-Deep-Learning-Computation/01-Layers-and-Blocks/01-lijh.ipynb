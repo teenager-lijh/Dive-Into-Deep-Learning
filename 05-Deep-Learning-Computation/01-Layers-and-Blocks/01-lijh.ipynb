{
 "cells": [
  {
   "cell_type": "markdown",
   "metadata": {},
   "source": [
    "## Python 实例对象当作函数调用"
   ]
  },
  {
   "cell_type": "code",
   "execution_count": 37,
   "metadata": {},
   "outputs": [],
   "source": [
    "class hello:\n",
    "    def __init__(self, ss):\n",
    "        self.ss = ss\n",
    "        print(\"my name is : \", ss)\n",
    "        \n",
    "    def __call__(self):\n",
    "        print(\"by call, my name is : \", self.ss)"
   ]
  },
  {
   "cell_type": "code",
   "execution_count": 38,
   "metadata": {},
   "outputs": [
    {
     "name": "stdout",
     "output_type": "stream",
     "text": [
      "my name is :  lijh\n"
     ]
    }
   ],
   "source": [
    "obj = hello(\"lijh\")"
   ]
  },
  {
   "cell_type": "code",
   "execution_count": 39,
   "metadata": {},
   "outputs": [
    {
     "name": "stdout",
     "output_type": "stream",
     "text": [
      "by call, my name is :  lijh\n"
     ]
    }
   ],
   "source": [
    "obj()"
   ]
  },
  {
   "cell_type": "markdown",
   "metadata": {},
   "source": [
    "## 继承"
   ]
  },
  {
   "cell_type": "code",
   "execution_count": 40,
   "metadata": {},
   "outputs": [],
   "source": [
    "class Parent:\n",
    "    def __init__(self, name, age):\n",
    "        self.name = name\n",
    "        self.age = age\n",
    "        print(f\"name : {name}\")\n",
    "        print(f\"age : {age}\")\n",
    "        print(\"__init__ done!\")\n",
    "        \n",
    "    def forward(self):\n",
    "        \"\"\"计算 5 年后的年龄是多少\"\"\"\n",
    "        res = self.age + 5\n",
    "        return res\n",
    "    \n",
    "    \n",
    "class Son(Parent):\n",
    "    def __init__(self, name, age):\n",
    "        super().__init__(name, age)\n",
    "        \n",
    "    def forward(self):\n",
    "        \"\"\"计算 10 年后的年龄是多少\"\"\"\n",
    "        res = self.age + 10\n",
    "        return res\n",
    "    \n",
    "    def __call__(self):\n",
    "        return super().forward()"
   ]
  },
  {
   "cell_type": "code",
   "execution_count": 41,
   "metadata": {},
   "outputs": [
    {
     "name": "stdout",
     "output_type": "stream",
     "text": [
      "name : parent\n",
      "age : 50\n",
      "__init__ done!\n",
      "name : son\n",
      "age : 25\n",
      "__init__ done!\n"
     ]
    }
   ],
   "source": [
    "parent = Parent(\"parent\", 50)\n",
    "son = Son(\"son\", 25)"
   ]
  },
  {
   "cell_type": "code",
   "execution_count": 42,
   "metadata": {},
   "outputs": [
    {
     "data": {
      "text/plain": [
       "(55, 35)"
      ]
     },
     "execution_count": 42,
     "metadata": {},
     "output_type": "execute_result"
    }
   ],
   "source": [
    "parent.forward(), son.forward() # 调用的都是各自本类实例的 forward 函数"
   ]
  },
  {
   "cell_type": "code",
   "execution_count": 43,
   "metadata": {},
   "outputs": [
    {
     "data": {
      "text/plain": [
       "30"
      ]
     },
     "execution_count": 43,
     "metadata": {},
     "output_type": "execute_result"
    }
   ],
   "source": [
    "son() # 通过 super() 调用了父类的 forward 函数"
   ]
  },
  {
   "cell_type": "code",
   "execution_count": null,
   "metadata": {},
   "outputs": [],
   "source": []
  }
 ],
 "metadata": {
  "interpreter": {
   "hash": "5ec60190fd82d19059a2c75283b4d0c60a6036d5032fb7c4db6e5c318b4fdfbb"
  },
  "kernelspec": {
   "display_name": "Python 3.9.7 ('base')",
   "language": "python",
   "name": "python3"
  },
  "language_info": {
   "codemirror_mode": {
    "name": "ipython",
    "version": 3
   },
   "file_extension": ".py",
   "mimetype": "text/x-python",
   "name": "python",
   "nbconvert_exporter": "python",
   "pygments_lexer": "ipython3",
   "version": "3.9.7"
  },
  "orig_nbformat": 4
 },
 "nbformat": 4,
 "nbformat_minor": 2
}
