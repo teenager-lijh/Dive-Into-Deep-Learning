{
 "cells": [
  {
   "cell_type": "markdown",
   "metadata": {},
   "source": [
    "## enumerate 内置函数\n",
    "\n",
    "enumerate 函数汇报传进去的值包装成元素\n",
    "\n",
    "元组的第 0 号元素是按照遍历顺序的下标（默认从 0 开始）\n",
    "\n",
    "元组的第 1 号元素是按照遍历顺序的值"
   ]
  },
  {
   "cell_type": "code",
   "execution_count": 3,
   "metadata": {},
   "outputs": [
    {
     "data": {
      "text/plain": [
       "['0 hello world',\n",
       " '1 hello world',\n",
       " '2 hello world',\n",
       " '3 hello world',\n",
       " '4 hello world',\n",
       " '5 hello world',\n",
       " '6 hello world',\n",
       " '7 hello world',\n",
       " '8 hello world',\n",
       " '9 hello world']"
      ]
     },
     "execution_count": 3,
     "metadata": {},
     "output_type": "execute_result"
    }
   ],
   "source": [
    "values = [str(i)+\"hello world\" for i in range(10)]\n",
    "values"
   ]
  },
  {
   "cell_type": "code",
   "execution_count": 4,
   "metadata": {},
   "outputs": [
    {
     "name": "stdout",
     "output_type": "stream",
     "text": [
      "0 0 hello world\n",
      "1 1 hello world\n",
      "2 2 hello world\n",
      "3 3 hello world\n",
      "4 4 hello world\n",
      "5 5 hello world\n",
      "6 6 hello world\n",
      "7 7 hello world\n",
      "8 8 hello world\n",
      "9 9 hello world\n"
     ]
    }
   ],
   "source": [
    "for idx, value in enumerate(values):\n",
    "    print(idx, value)"
   ]
  },
  {
   "cell_type": "code",
   "execution_count": 5,
   "metadata": {},
   "outputs": [
    {
     "name": "stdout",
     "output_type": "stream",
     "text": [
      "(0, '0 hello world')\n",
      "(1, '1 hello world')\n",
      "(2, '2 hello world')\n",
      "(3, '3 hello world')\n",
      "(4, '4 hello world')\n",
      "(5, '5 hello world')\n",
      "(6, '6 hello world')\n",
      "(7, '7 hello world')\n",
      "(8, '8 hello world')\n",
      "(9, '9 hello world')\n"
     ]
    }
   ],
   "source": [
    "for item in enumerate(values):\n",
    "    print(item)"
   ]
  }
 ],
 "metadata": {
  "interpreter": {
   "hash": "5ec60190fd82d19059a2c75283b4d0c60a6036d5032fb7c4db6e5c318b4fdfbb"
  },
  "kernelspec": {
   "display_name": "Python 3.9.7 ('base')",
   "language": "python",
   "name": "python3"
  },
  "language_info": {
   "codemirror_mode": {
    "name": "ipython",
    "version": 3
   },
   "file_extension": ".py",
   "mimetype": "text/x-python",
   "name": "python",
   "nbconvert_exporter": "python",
   "pygments_lexer": "ipython3",
   "version": "3.9.7"
  },
  "orig_nbformat": 4
 },
 "nbformat": 4,
 "nbformat_minor": 2
}
