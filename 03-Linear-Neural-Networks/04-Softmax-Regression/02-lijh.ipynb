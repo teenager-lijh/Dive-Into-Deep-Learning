{
 "cells": [
  {
   "cell_type": "markdown",
   "metadata": {},
   "source": [
    "### 回归问题到分类问题"
   ]
  },
  {
   "cell_type": "markdown",
   "metadata": {},
   "source": [
    "和逻辑斯蒂回归的区别是什么？\n",
    "\n",
    "先来看看逻辑斯蒂回归，它的激活函数是 sigmoid 函数，而 sigmoid 函数的输出值是一个连续的值，最终使用的损失函数，也就是误差度量的函数是 均方误差。于此相对的还有绝对值误差MSE，还有其他的误差度量等方式，所以这时候是不是对误差度量这个概念有了更深刻的理解。\n",
    "\n",
    "在书中 ==> 用损失函数 替换了 误差度量方式 的概念\n",
    "\n",
    "再来看 softmax 回归，它最终用的误差度量的函数是 交叉熵，所以这里说的损失函数指的是最终的误差度量方式而不是指的构造出的那个损失函数的概念。不是概念！而是指误差度量方式！\n",
    "\n",
    "指数的好处是不论 $o_{i}$ 是什么，都能够转化成非负：\n",
    "\n",
    "$$\n",
    "\\begin{aligned}\n",
    "\\hat{\\mathbf{y}} &=\\operatorname{softmax}(\\mathbf{o}) \\\\\n",
    "\\hat{y}_{i} &=\\frac{\\exp \\left(o_{i}\\right)}{\\sum_{k} \\exp \\left(o_{k}\\right)}\n",
    "\\end{aligned}\n",
    "$$\n",
    "\n",
    "当使用 one-hot 编码后，原本的类别标签 y，也可以通过 softmax 计算后变成一个概率值了。这样以来就可以使用神经网络的输出值与 y 之间构成误差计算的损失函数。 "
   ]
  },
  {
   "cell_type": "markdown",
   "metadata": {},
   "source": [
    "### 交叉熵\n",
    "\n",
    "这里的 p 和 q 是离散的概率分布向量\n",
    "\n",
    "交叉熵计算的是：两个概率分布之间的差异，并且交叉熵是不对称的，也就是 p,q 传入的顺序不同，则计算出来的结果也是不同的\n",
    "\n",
    "H(p, q) ==> p 和 q 的概率分布差异越大，则 p 相对于 q 的交叉熵比 p 的信息熵越大\n",
    "\n",
    "$$\n",
    "H(\\mathbf{p}, \\mathbf{q})=\\sum_{i}-p_{i} \\log \\left(q_{i}\\right)\n",
    "$$"
   ]
  },
  {
   "cell_type": "code",
   "execution_count": 103,
   "metadata": {},
   "outputs": [],
   "source": [
    "import matplotlib.pyplot as plt\n",
    "import numpy as np\n",
    "def cross_entropy(p, q): # p 相对于 q 的交叉熵，p 在 log 函数上\n",
    "    return np.sum(-q*np.log(p)) # 默认以 e 为底\n",
    "\n",
    "def entropy(y):\n",
    "    return np.sum(-y*np.log(y))"
   ]
  },
  {
   "cell_type": "code",
   "execution_count": 104,
   "metadata": {},
   "outputs": [],
   "source": [
    "scatter = np.linspace(0.01, 0.99, 100)\n",
    "\n",
    "# x 是越来越大的\n",
    "all_y = [np.array([x, 1-x]) for x in scatter]\n",
    "all_y_hat = [np.array([1-x, x]) for x in scatter]\n",
    "\n",
    "all_cross_entropy = [cross_entropy(all_y[i], all_y_hat[i]) for i in range(len(all_y))]"
   ]
  },
  {
   "cell_type": "code",
   "execution_count": 105,
   "metadata": {},
   "outputs": [],
   "source": [
    "x = scatter\n",
    "y = all_cross_entropy"
   ]
  },
  {
   "cell_type": "code",
   "execution_count": 106,
   "metadata": {},
   "outputs": [
    {
     "data": {
      "image/png": "[encoded data removed]",
      "text/plain": [
       "<Figure size 432x288 with 1 Axes>"
      ]
     },
     "metadata": {
      "needs_background": "light"
     },
     "output_type": "display_data"
    }
   ],
   "source": [
    "plt.plot(x, y)\n",
    "plt.show()"
   ]
  },
  {
   "cell_type": "markdown",
   "metadata": {},
   "source": [
    "### 最好的交叉熵\n",
    "\n",
    "什么时候交叉熵的值最小，就是当两个概率分布完全一致的时候，交叉熵达到最小值，但是有一个理论是：p 相对于 q 的交叉熵总是大于 p 的信息熵的，只不过 p 和 q 的分布差异越大，则 p 相对于 q 的交叉熵比 p 的交叉熵大的越多，也就是说 p 的信息熵是 p 相对于 q 的交叉熵的下界，那么下边就来试验一下这个猜测"
   ]
  },
  {
   "cell_type": "code",
   "execution_count": 107,
   "metadata": {},
   "outputs": [],
   "source": [
    "y_true = np.array([0.5, 0.5]) # y_true 是真实的概率分布\n",
    "y_hat = np.array([0.5, 0.5]) # y_hat 是预测的概率分布"
   ]
  },
  {
   "cell_type": "code",
   "execution_count": 108,
   "metadata": {},
   "outputs": [
    {
     "data": {
      "text/plain": [
       "0.6931471805599453"
      ]
     },
     "execution_count": 108,
     "metadata": {},
     "output_type": "execute_result"
    }
   ],
   "source": [
    "# 计算 y_true 的信息熵\n",
    "entropy(y_true)"
   ]
  },
  {
   "cell_type": "code",
   "execution_count": 109,
   "metadata": {},
   "outputs": [
    {
     "data": {
      "text/plain": [
       "0.6931471805599453"
      ]
     },
     "execution_count": 109,
     "metadata": {},
     "output_type": "execute_result"
    }
   ],
   "source": [
    "# 计算 y_true 相对于 y_hat 的交叉熵\n",
    "# 在上边的代码中 cross_entropy(all_y[i], all_y_hat[i])\n",
    "# 这个也是真实的概率分布相对于预测的概率分布的交叉熵，这个保持一致\n",
    "cross_entropy(y_true, y_hat)"
   ]
  },
  {
   "cell_type": "markdown",
   "metadata": {},
   "source": [
    "通过下边的代码就验证了，上述的猜想在这个试验中是正确的，实际上，当两者的概率分布相同的时候，那也就是说明了 p 和 q 就是等价的，替换一下其中的字母，这样一来交叉熵的公式就等价于信息熵的公式了！所以，这个时候交叉熵和信息熵的值也就是相等的了！\n",
    "\n",
    "说明：p 相对于 q 的交叉熵的下限是 p 的信息熵 ==> p 在 log 的位置上\n",
    "\n",
    "但是：q 相对于 p 的交叉熵的下线不是 p 的信息熵而是 q 的信息熵，所以才说交叉熵是不对称的"
   ]
  },
  {
   "cell_type": "code",
   "execution_count": 110,
   "metadata": {},
   "outputs": [
    {
     "data": {
      "text/plain": [
       "True"
      ]
     },
     "execution_count": 110,
     "metadata": {},
     "output_type": "execute_result"
    }
   ],
   "source": [
    "entropy(y_true) == cross_entropy(y_true, y_hat)"
   ]
  },
  {
   "cell_type": "markdown",
   "metadata": {},
   "source": [
    "这里的 P 是一个概率分布向量，Q 也是一个概率分布向量，log(P) 是 P 产生的 非加权的惊异程度，而 $H(P)$ 则是 P 产生的并且加权后的 惊异程度。另外，关于 H(P, Q) 的理解，则是 Q 对 log(P) 的加权后的惊异程度。\n",
    "\n",
    "为什么起个名字叫 惊异程度？就是很惊奇？看到别人家的概率分布和自己不一样就很差异？很奇怪？哇哦，这个世界上还有和自己如此不同的人，还有与自己如此不同的概率分布啊！\n",
    "\n",
    "如果把熵$H(P)$想象为“知道真实概率的人所经历的惊异程度”，那么什么是交叉熵？\n",
    "交叉熵*从*$P$*到*$Q$，记为$H(P, Q)$。\n",
    "你可以把交叉熵想象为“主观概率为$Q$的观察者在看到根据概率$P$生成的数据时的预期惊异”。\n",
    "当$P=Q$时，交叉熵达到最低。\n",
    "在这种情况下，从$P$到$Q$的交叉熵是$H(P, P)= H(P)$。"
   ]
  }
 ],
 "metadata": {
  "interpreter": {
   "hash": "5ec60190fd82d19059a2c75283b4d0c60a6036d5032fb7c4db6e5c318b4fdfbb"
  },
  "kernelspec": {
   "display_name": "Python 3.9.7 ('base')",
   "language": "python",
   "name": "python3"
  },
  "language_info": {
   "codemirror_mode": {
    "name": "ipython",
    "version": 3
   },
   "file_extension": ".py",
   "mimetype": "text/x-python",
   "name": "python",
   "nbconvert_exporter": "python",
   "pygments_lexer": "ipython3",
   "version": "3.9.7"
  },
  "orig_nbformat": 4
 },
 "nbformat": 4,
 "nbformat_minor": 2
}
